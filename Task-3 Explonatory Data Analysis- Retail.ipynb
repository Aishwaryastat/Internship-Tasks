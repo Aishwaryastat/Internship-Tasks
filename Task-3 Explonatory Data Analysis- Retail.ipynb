{
 "cells": [
  {
   "cell_type": "markdown",
   "id": "0fd8c2c6",
   "metadata": {},
   "source": [
    "# Task-3 Exploratory Data Analysis -Retail"
   ]
  },
  {
   "cell_type": "markdown",
   "id": "5bbbdae1",
   "metadata": {},
   "source": [
    "Task:\n",
    "    \n",
    "    1. Perform EDA on dataset \"SampleSuperstore\"\n",
    "    2. As a business manager, try to find out the weak areas where you can work to make more profit.\n",
    "    3. What all business problem you can derive by exploring data?"
   ]
  },
  {
   "cell_type": "markdown",
   "id": "9a87c67a",
   "metadata": {},
   "source": [
    "dataset link: https://bit.ly/3i4rbWl"
   ]
  },
  {
   "cell_type": "markdown",
   "id": "a39cdbf0",
   "metadata": {},
   "source": [
    "Let's start working with data."
   ]
  },
  {
   "cell_type": "markdown",
   "id": "2fecfcf9",
   "metadata": {},
   "source": [
    "Let us first import the libraries."
   ]
  },
  {
   "cell_type": "code",
   "execution_count": 2,
   "id": "7e66a225",
   "metadata": {},
   "outputs": [],
   "source": [
    "import numpy as np\n",
    "import pandas as pd\n",
    "import matplotlib.pyplot as plt\n",
    "import seaborn as sns"
   ]
  },
  {
   "cell_type": "code",
   "execution_count": 3,
   "id": "8458fc6b",
   "metadata": {},
   "outputs": [
    {
     "data": {
      "text/html": [
       "<div>\n",
       "<style scoped>\n",
       "    .dataframe tbody tr th:only-of-type {\n",
       "        vertical-align: middle;\n",
       "    }\n",
       "\n",
       "    .dataframe tbody tr th {\n",
       "        vertical-align: top;\n",
       "    }\n",
       "\n",
       "    .dataframe thead th {\n",
       "        text-align: right;\n",
       "    }\n",
       "</style>\n",
       "<table border=\"1\" class=\"dataframe\">\n",
       "  <thead>\n",
       "    <tr style=\"text-align: right;\">\n",
       "      <th></th>\n",
       "      <th>Ship Mode</th>\n",
       "      <th>Segment</th>\n",
       "      <th>Country</th>\n",
       "      <th>City</th>\n",
       "      <th>State</th>\n",
       "      <th>Postal Code</th>\n",
       "      <th>Region</th>\n",
       "      <th>Category</th>\n",
       "      <th>Sub-Category</th>\n",
       "      <th>Sales</th>\n",
       "      <th>Quantity</th>\n",
       "      <th>Discount</th>\n",
       "      <th>Profit</th>\n",
       "    </tr>\n",
       "  </thead>\n",
       "  <tbody>\n",
       "    <tr>\n",
       "      <th>0</th>\n",
       "      <td>Second Class</td>\n",
       "      <td>Consumer</td>\n",
       "      <td>United States</td>\n",
       "      <td>Henderson</td>\n",
       "      <td>Kentucky</td>\n",
       "      <td>42420</td>\n",
       "      <td>South</td>\n",
       "      <td>Furniture</td>\n",
       "      <td>Bookcases</td>\n",
       "      <td>261.9600</td>\n",
       "      <td>2</td>\n",
       "      <td>0.00</td>\n",
       "      <td>41.9136</td>\n",
       "    </tr>\n",
       "    <tr>\n",
       "      <th>1</th>\n",
       "      <td>Second Class</td>\n",
       "      <td>Consumer</td>\n",
       "      <td>United States</td>\n",
       "      <td>Henderson</td>\n",
       "      <td>Kentucky</td>\n",
       "      <td>42420</td>\n",
       "      <td>South</td>\n",
       "      <td>Furniture</td>\n",
       "      <td>Chairs</td>\n",
       "      <td>731.9400</td>\n",
       "      <td>3</td>\n",
       "      <td>0.00</td>\n",
       "      <td>219.5820</td>\n",
       "    </tr>\n",
       "    <tr>\n",
       "      <th>2</th>\n",
       "      <td>Second Class</td>\n",
       "      <td>Corporate</td>\n",
       "      <td>United States</td>\n",
       "      <td>Los Angeles</td>\n",
       "      <td>California</td>\n",
       "      <td>90036</td>\n",
       "      <td>West</td>\n",
       "      <td>Office Supplies</td>\n",
       "      <td>Labels</td>\n",
       "      <td>14.6200</td>\n",
       "      <td>2</td>\n",
       "      <td>0.00</td>\n",
       "      <td>6.8714</td>\n",
       "    </tr>\n",
       "    <tr>\n",
       "      <th>3</th>\n",
       "      <td>Standard Class</td>\n",
       "      <td>Consumer</td>\n",
       "      <td>United States</td>\n",
       "      <td>Fort Lauderdale</td>\n",
       "      <td>Florida</td>\n",
       "      <td>33311</td>\n",
       "      <td>South</td>\n",
       "      <td>Furniture</td>\n",
       "      <td>Tables</td>\n",
       "      <td>957.5775</td>\n",
       "      <td>5</td>\n",
       "      <td>0.45</td>\n",
       "      <td>-383.0310</td>\n",
       "    </tr>\n",
       "    <tr>\n",
       "      <th>4</th>\n",
       "      <td>Standard Class</td>\n",
       "      <td>Consumer</td>\n",
       "      <td>United States</td>\n",
       "      <td>Fort Lauderdale</td>\n",
       "      <td>Florida</td>\n",
       "      <td>33311</td>\n",
       "      <td>South</td>\n",
       "      <td>Office Supplies</td>\n",
       "      <td>Storage</td>\n",
       "      <td>22.3680</td>\n",
       "      <td>2</td>\n",
       "      <td>0.20</td>\n",
       "      <td>2.5164</td>\n",
       "    </tr>\n",
       "  </tbody>\n",
       "</table>\n",
       "</div>"
      ],
      "text/plain": [
       "        Ship Mode    Segment        Country             City       State  \\\n",
       "0    Second Class   Consumer  United States        Henderson    Kentucky   \n",
       "1    Second Class   Consumer  United States        Henderson    Kentucky   \n",
       "2    Second Class  Corporate  United States      Los Angeles  California   \n",
       "3  Standard Class   Consumer  United States  Fort Lauderdale     Florida   \n",
       "4  Standard Class   Consumer  United States  Fort Lauderdale     Florida   \n",
       "\n",
       "   Postal Code Region         Category Sub-Category     Sales  Quantity  \\\n",
       "0        42420  South        Furniture    Bookcases  261.9600         2   \n",
       "1        42420  South        Furniture       Chairs  731.9400         3   \n",
       "2        90036   West  Office Supplies       Labels   14.6200         2   \n",
       "3        33311  South        Furniture       Tables  957.5775         5   \n",
       "4        33311  South  Office Supplies      Storage   22.3680         2   \n",
       "\n",
       "   Discount    Profit  \n",
       "0      0.00   41.9136  \n",
       "1      0.00  219.5820  \n",
       "2      0.00    6.8714  \n",
       "3      0.45 -383.0310  \n",
       "4      0.20    2.5164  "
      ]
     },
     "execution_count": 3,
     "metadata": {},
     "output_type": "execute_result"
    }
   ],
   "source": [
    "# import superstore data using pandas read_csv command.\n",
    "data=pd.read_csv(\"C:/Users/pcc/Downloads/SampleSuperstore.csv\")\n",
    "data.head() # View first 5 rows of our dataset."
   ]
  },
  {
   "cell_type": "code",
   "execution_count": 4,
   "id": "6d9939a0",
   "metadata": {},
   "outputs": [
    {
     "data": {
      "text/html": [
       "<div>\n",
       "<style scoped>\n",
       "    .dataframe tbody tr th:only-of-type {\n",
       "        vertical-align: middle;\n",
       "    }\n",
       "\n",
       "    .dataframe tbody tr th {\n",
       "        vertical-align: top;\n",
       "    }\n",
       "\n",
       "    .dataframe thead th {\n",
       "        text-align: right;\n",
       "    }\n",
       "</style>\n",
       "<table border=\"1\" class=\"dataframe\">\n",
       "  <thead>\n",
       "    <tr style=\"text-align: right;\">\n",
       "      <th></th>\n",
       "      <th>Ship Mode</th>\n",
       "      <th>Segment</th>\n",
       "      <th>Country</th>\n",
       "      <th>City</th>\n",
       "      <th>State</th>\n",
       "      <th>Postal Code</th>\n",
       "      <th>Region</th>\n",
       "      <th>Category</th>\n",
       "      <th>Sub-Category</th>\n",
       "      <th>Sales</th>\n",
       "      <th>Quantity</th>\n",
       "      <th>Discount</th>\n",
       "      <th>Profit</th>\n",
       "    </tr>\n",
       "  </thead>\n",
       "  <tbody>\n",
       "    <tr>\n",
       "      <th>9989</th>\n",
       "      <td>Second Class</td>\n",
       "      <td>Consumer</td>\n",
       "      <td>United States</td>\n",
       "      <td>Miami</td>\n",
       "      <td>Florida</td>\n",
       "      <td>33180</td>\n",
       "      <td>South</td>\n",
       "      <td>Furniture</td>\n",
       "      <td>Furnishings</td>\n",
       "      <td>25.248</td>\n",
       "      <td>3</td>\n",
       "      <td>0.2</td>\n",
       "      <td>4.1028</td>\n",
       "    </tr>\n",
       "    <tr>\n",
       "      <th>9990</th>\n",
       "      <td>Standard Class</td>\n",
       "      <td>Consumer</td>\n",
       "      <td>United States</td>\n",
       "      <td>Costa Mesa</td>\n",
       "      <td>California</td>\n",
       "      <td>92627</td>\n",
       "      <td>West</td>\n",
       "      <td>Furniture</td>\n",
       "      <td>Furnishings</td>\n",
       "      <td>91.960</td>\n",
       "      <td>2</td>\n",
       "      <td>0.0</td>\n",
       "      <td>15.6332</td>\n",
       "    </tr>\n",
       "    <tr>\n",
       "      <th>9991</th>\n",
       "      <td>Standard Class</td>\n",
       "      <td>Consumer</td>\n",
       "      <td>United States</td>\n",
       "      <td>Costa Mesa</td>\n",
       "      <td>California</td>\n",
       "      <td>92627</td>\n",
       "      <td>West</td>\n",
       "      <td>Technology</td>\n",
       "      <td>Phones</td>\n",
       "      <td>258.576</td>\n",
       "      <td>2</td>\n",
       "      <td>0.2</td>\n",
       "      <td>19.3932</td>\n",
       "    </tr>\n",
       "    <tr>\n",
       "      <th>9992</th>\n",
       "      <td>Standard Class</td>\n",
       "      <td>Consumer</td>\n",
       "      <td>United States</td>\n",
       "      <td>Costa Mesa</td>\n",
       "      <td>California</td>\n",
       "      <td>92627</td>\n",
       "      <td>West</td>\n",
       "      <td>Office Supplies</td>\n",
       "      <td>Paper</td>\n",
       "      <td>29.600</td>\n",
       "      <td>4</td>\n",
       "      <td>0.0</td>\n",
       "      <td>13.3200</td>\n",
       "    </tr>\n",
       "    <tr>\n",
       "      <th>9993</th>\n",
       "      <td>Second Class</td>\n",
       "      <td>Consumer</td>\n",
       "      <td>United States</td>\n",
       "      <td>Westminster</td>\n",
       "      <td>California</td>\n",
       "      <td>92683</td>\n",
       "      <td>West</td>\n",
       "      <td>Office Supplies</td>\n",
       "      <td>Appliances</td>\n",
       "      <td>243.160</td>\n",
       "      <td>2</td>\n",
       "      <td>0.0</td>\n",
       "      <td>72.9480</td>\n",
       "    </tr>\n",
       "  </tbody>\n",
       "</table>\n",
       "</div>"
      ],
      "text/plain": [
       "           Ship Mode   Segment        Country         City       State  \\\n",
       "9989    Second Class  Consumer  United States        Miami     Florida   \n",
       "9990  Standard Class  Consumer  United States   Costa Mesa  California   \n",
       "9991  Standard Class  Consumer  United States   Costa Mesa  California   \n",
       "9992  Standard Class  Consumer  United States   Costa Mesa  California   \n",
       "9993    Second Class  Consumer  United States  Westminster  California   \n",
       "\n",
       "      Postal Code Region         Category Sub-Category    Sales  Quantity  \\\n",
       "9989        33180  South        Furniture  Furnishings   25.248         3   \n",
       "9990        92627   West        Furniture  Furnishings   91.960         2   \n",
       "9991        92627   West       Technology       Phones  258.576         2   \n",
       "9992        92627   West  Office Supplies        Paper   29.600         4   \n",
       "9993        92683   West  Office Supplies   Appliances  243.160         2   \n",
       "\n",
       "      Discount   Profit  \n",
       "9989       0.2   4.1028  \n",
       "9990       0.0  15.6332  \n",
       "9991       0.2  19.3932  \n",
       "9992       0.0  13.3200  \n",
       "9993       0.0  72.9480  "
      ]
     },
     "execution_count": 4,
     "metadata": {},
     "output_type": "execute_result"
    }
   ],
   "source": [
    "data.tail() # last five rows of dataset"
   ]
  },
  {
   "cell_type": "code",
   "execution_count": 5,
   "id": "c115e698",
   "metadata": {},
   "outputs": [
    {
     "data": {
      "text/plain": [
       "(9994, 13)"
      ]
     },
     "execution_count": 5,
     "metadata": {},
     "output_type": "execute_result"
    }
   ],
   "source": [
    "#view shape of dataframe that contain No. of rows and No. of columns\n",
    "data.shape"
   ]
  },
  {
   "cell_type": "markdown",
   "id": "6ddd4afe",
   "metadata": {},
   "source": [
    "In our dataset, there are 9994 rows and 13 columns are available."
   ]
  },
  {
   "cell_type": "code",
   "execution_count": 7,
   "id": "c12cbd5f",
   "metadata": {},
   "outputs": [
    {
     "data": {
      "text/plain": [
       "Index(['Ship Mode', 'Segment', 'Country', 'City', 'State', 'Postal Code',\n",
       "       'Region', 'Category', 'Sub-Category', 'Sales', 'Quantity', 'Discount',\n",
       "       'Profit'],\n",
       "      dtype='object')"
      ]
     },
     "execution_count": 7,
     "metadata": {},
     "output_type": "execute_result"
    }
   ],
   "source": [
    "#let's view the columns\n",
    "data.columns"
   ]
  },
  {
   "cell_type": "code",
   "execution_count": 8,
   "id": "dc197f32",
   "metadata": {},
   "outputs": [
    {
     "name": "stdout",
     "output_type": "stream",
     "text": [
      "<class 'pandas.core.frame.DataFrame'>\n",
      "RangeIndex: 9994 entries, 0 to 9993\n",
      "Data columns (total 13 columns):\n",
      " #   Column        Non-Null Count  Dtype  \n",
      "---  ------        --------------  -----  \n",
      " 0   Ship Mode     9994 non-null   object \n",
      " 1   Segment       9994 non-null   object \n",
      " 2   Country       9994 non-null   object \n",
      " 3   City          9994 non-null   object \n",
      " 4   State         9994 non-null   object \n",
      " 5   Postal Code   9994 non-null   int64  \n",
      " 6   Region        9994 non-null   object \n",
      " 7   Category      9994 non-null   object \n",
      " 8   Sub-Category  9994 non-null   object \n",
      " 9   Sales         9994 non-null   float64\n",
      " 10  Quantity      9994 non-null   int64  \n",
      " 11  Discount      9994 non-null   float64\n",
      " 12  Profit        9994 non-null   float64\n",
      "dtypes: float64(3), int64(2), object(8)\n",
      "memory usage: 1015.1+ KB\n"
     ]
    }
   ],
   "source": [
    "#view the information about data\n",
    "data.info()"
   ]
  },
  {
   "cell_type": "code",
   "execution_count": 9,
   "id": "6f0bd658",
   "metadata": {},
   "outputs": [
    {
     "data": {
      "text/plain": [
       "Ship Mode       0\n",
       "Segment         0\n",
       "Country         0\n",
       "City            0\n",
       "State           0\n",
       "Postal Code     0\n",
       "Region          0\n",
       "Category        0\n",
       "Sub-Category    0\n",
       "Sales           0\n",
       "Quantity        0\n",
       "Discount        0\n",
       "Profit          0\n",
       "dtype: int64"
      ]
     },
     "execution_count": 9,
     "metadata": {},
     "output_type": "execute_result"
    }
   ],
   "source": [
    "#check if there are null values in data\n",
    "data.isnull().sum()"
   ]
  },
  {
   "cell_type": "markdown",
   "id": "bdf0969d",
   "metadata": {},
   "source": [
    "There are no null values over the entire data."
   ]
  },
  {
   "cell_type": "markdown",
   "id": "cfe198ff",
   "metadata": {},
   "source": [
    "View unique categories in data."
   ]
  },
  {
   "cell_type": "code",
   "execution_count": 11,
   "id": "d75725f8",
   "metadata": {},
   "outputs": [
    {
     "name": "stdout",
     "output_type": "stream",
     "text": [
      "['Furniture' 'Office Supplies' 'Technology']\n"
     ]
    }
   ],
   "source": [
    "print(data[\"Category\"].unique())"
   ]
  },
  {
   "cell_type": "code",
   "execution_count": 12,
   "id": "f9676d69",
   "metadata": {},
   "outputs": [
    {
     "name": "stdout",
     "output_type": "stream",
     "text": [
      "['Bookcases' 'Chairs' 'Labels' 'Tables' 'Storage' 'Furnishings' 'Art'\n",
      " 'Phones' 'Binders' 'Appliances' 'Paper' 'Accessories' 'Envelopes'\n",
      " 'Fasteners' 'Supplies' 'Machines' 'Copiers']\n"
     ]
    }
   ],
   "source": [
    "print(data[\"Sub-Category\"].unique())"
   ]
  },
  {
   "cell_type": "code",
   "execution_count": 13,
   "id": "7e27d0a8",
   "metadata": {},
   "outputs": [
    {
     "name": "stdout",
     "output_type": "stream",
     "text": [
      "Categories are divided into 17 subcategories.\n"
     ]
    }
   ],
   "source": [
    "NO_of_Cate=data[\"Sub-Category\"].nunique()\n",
    "print(\"Categories are divided into\", NO_of_Cate, \"subcategories.\")"
   ]
  },
  {
   "cell_type": "code",
   "execution_count": 14,
   "id": "a9933b45",
   "metadata": {},
   "outputs": [
    {
     "name": "stdout",
     "output_type": "stream",
     "text": [
      "49\n"
     ]
    }
   ],
   "source": [
    "print(data[\"State\"].nunique()) #to view the number of unique entries in th column by using nunique()"
   ]
  },
  {
   "cell_type": "code",
   "execution_count": 15,
   "id": "faff1996",
   "metadata": {},
   "outputs": [
    {
     "data": {
      "text/plain": [
       "array(['Second Class', 'Standard Class', 'First Class', 'Same Day'],\n",
       "      dtype=object)"
      ]
     },
     "execution_count": 15,
     "metadata": {},
     "output_type": "execute_result"
    }
   ],
   "source": [
    "data[\"Ship Mode\"].unique()"
   ]
  },
  {
   "cell_type": "code",
   "execution_count": 16,
   "id": "9fe1f313",
   "metadata": {},
   "outputs": [
    {
     "data": {
      "text/plain": [
       "Consumer       5191\n",
       "Corporate      3020\n",
       "Home Office    1783\n",
       "Name: Segment, dtype: int64"
      ]
     },
     "execution_count": 16,
     "metadata": {},
     "output_type": "execute_result"
    }
   ],
   "source": [
    "data[\"Segment\"].value_counts()"
   ]
  },
  {
   "cell_type": "code",
   "execution_count": 17,
   "id": "1a884e13",
   "metadata": {},
   "outputs": [
    {
     "data": {
      "text/plain": [
       "array(['United States'], dtype=object)"
      ]
     },
     "execution_count": 17,
     "metadata": {},
     "output_type": "execute_result"
    }
   ],
   "source": [
    "data[\"Country\"].unique()"
   ]
  },
  {
   "cell_type": "code",
   "execution_count": 18,
   "id": "4391d184",
   "metadata": {},
   "outputs": [
    {
     "data": {
      "text/plain": [
       "531"
      ]
     },
     "execution_count": 18,
     "metadata": {},
     "output_type": "execute_result"
    }
   ],
   "source": [
    "data[\"City\"].nunique()"
   ]
  },
  {
   "cell_type": "code",
   "execution_count": 19,
   "id": "d89dc7a6",
   "metadata": {},
   "outputs": [
    {
     "data": {
      "text/plain": [
       "array(['South', 'West', 'Central', 'East'], dtype=object)"
      ]
     },
     "execution_count": 19,
     "metadata": {},
     "output_type": "execute_result"
    }
   ],
   "source": [
    "data[\"Region\"].unique()"
   ]
  },
  {
   "cell_type": "code",
   "execution_count": 21,
   "id": "e64c9c36",
   "metadata": {},
   "outputs": [
    {
     "data": {
      "text/html": [
       "<div>\n",
       "<style scoped>\n",
       "    .dataframe tbody tr th:only-of-type {\n",
       "        vertical-align: middle;\n",
       "    }\n",
       "\n",
       "    .dataframe tbody tr th {\n",
       "        vertical-align: top;\n",
       "    }\n",
       "\n",
       "    .dataframe thead th {\n",
       "        text-align: right;\n",
       "    }\n",
       "</style>\n",
       "<table border=\"1\" class=\"dataframe\">\n",
       "  <thead>\n",
       "    <tr style=\"text-align: right;\">\n",
       "      <th></th>\n",
       "      <th>Postal Code</th>\n",
       "      <th>Sales</th>\n",
       "      <th>Quantity</th>\n",
       "      <th>Discount</th>\n",
       "      <th>Profit</th>\n",
       "    </tr>\n",
       "  </thead>\n",
       "  <tbody>\n",
       "    <tr>\n",
       "      <th>count</th>\n",
       "      <td>9994.000000</td>\n",
       "      <td>9994.000000</td>\n",
       "      <td>9994.000000</td>\n",
       "      <td>9994.000000</td>\n",
       "      <td>9994.000000</td>\n",
       "    </tr>\n",
       "    <tr>\n",
       "      <th>mean</th>\n",
       "      <td>55190.379428</td>\n",
       "      <td>229.858001</td>\n",
       "      <td>3.789574</td>\n",
       "      <td>0.156203</td>\n",
       "      <td>28.656896</td>\n",
       "    </tr>\n",
       "    <tr>\n",
       "      <th>std</th>\n",
       "      <td>32063.693350</td>\n",
       "      <td>623.245101</td>\n",
       "      <td>2.225110</td>\n",
       "      <td>0.206452</td>\n",
       "      <td>234.260108</td>\n",
       "    </tr>\n",
       "    <tr>\n",
       "      <th>min</th>\n",
       "      <td>1040.000000</td>\n",
       "      <td>0.444000</td>\n",
       "      <td>1.000000</td>\n",
       "      <td>0.000000</td>\n",
       "      <td>-6599.978000</td>\n",
       "    </tr>\n",
       "    <tr>\n",
       "      <th>25%</th>\n",
       "      <td>23223.000000</td>\n",
       "      <td>17.280000</td>\n",
       "      <td>2.000000</td>\n",
       "      <td>0.000000</td>\n",
       "      <td>1.728750</td>\n",
       "    </tr>\n",
       "    <tr>\n",
       "      <th>50%</th>\n",
       "      <td>56430.500000</td>\n",
       "      <td>54.490000</td>\n",
       "      <td>3.000000</td>\n",
       "      <td>0.200000</td>\n",
       "      <td>8.666500</td>\n",
       "    </tr>\n",
       "    <tr>\n",
       "      <th>75%</th>\n",
       "      <td>90008.000000</td>\n",
       "      <td>209.940000</td>\n",
       "      <td>5.000000</td>\n",
       "      <td>0.200000</td>\n",
       "      <td>29.364000</td>\n",
       "    </tr>\n",
       "    <tr>\n",
       "      <th>max</th>\n",
       "      <td>99301.000000</td>\n",
       "      <td>22638.480000</td>\n",
       "      <td>14.000000</td>\n",
       "      <td>0.800000</td>\n",
       "      <td>8399.976000</td>\n",
       "    </tr>\n",
       "  </tbody>\n",
       "</table>\n",
       "</div>"
      ],
      "text/plain": [
       "        Postal Code         Sales     Quantity     Discount       Profit\n",
       "count   9994.000000   9994.000000  9994.000000  9994.000000  9994.000000\n",
       "mean   55190.379428    229.858001     3.789574     0.156203    28.656896\n",
       "std    32063.693350    623.245101     2.225110     0.206452   234.260108\n",
       "min     1040.000000      0.444000     1.000000     0.000000 -6599.978000\n",
       "25%    23223.000000     17.280000     2.000000     0.000000     1.728750\n",
       "50%    56430.500000     54.490000     3.000000     0.200000     8.666500\n",
       "75%    90008.000000    209.940000     5.000000     0.200000    29.364000\n",
       "max    99301.000000  22638.480000    14.000000     0.800000  8399.976000"
      ]
     },
     "execution_count": 21,
     "metadata": {},
     "output_type": "execute_result"
    }
   ],
   "source": [
    "#Let's view statistical description\n",
    "data.describe()"
   ]
  },
  {
   "cell_type": "markdown",
   "id": "aa8d967c",
   "metadata": {},
   "source": [
    "# Focus On Losses:\n",
    "    \n",
    "    Now let's create a loss dataframe. Create data frame of negative values of profit that is losses.\n",
    "    "
   ]
  },
  {
   "cell_type": "code",
   "execution_count": 22,
   "id": "d9158bee",
   "metadata": {},
   "outputs": [
    {
     "data": {
      "text/html": [
       "<div>\n",
       "<style scoped>\n",
       "    .dataframe tbody tr th:only-of-type {\n",
       "        vertical-align: middle;\n",
       "    }\n",
       "\n",
       "    .dataframe tbody tr th {\n",
       "        vertical-align: top;\n",
       "    }\n",
       "\n",
       "    .dataframe thead th {\n",
       "        text-align: right;\n",
       "    }\n",
       "</style>\n",
       "<table border=\"1\" class=\"dataframe\">\n",
       "  <thead>\n",
       "    <tr style=\"text-align: right;\">\n",
       "      <th></th>\n",
       "      <th>Ship Mode</th>\n",
       "      <th>Segment</th>\n",
       "      <th>Country</th>\n",
       "      <th>City</th>\n",
       "      <th>State</th>\n",
       "      <th>Postal Code</th>\n",
       "      <th>Region</th>\n",
       "      <th>Category</th>\n",
       "      <th>Sub-Category</th>\n",
       "      <th>Sales</th>\n",
       "      <th>Quantity</th>\n",
       "      <th>Discount</th>\n",
       "      <th>Profit</th>\n",
       "    </tr>\n",
       "  </thead>\n",
       "  <tbody>\n",
       "    <tr>\n",
       "      <th>3</th>\n",
       "      <td>Standard Class</td>\n",
       "      <td>Consumer</td>\n",
       "      <td>United States</td>\n",
       "      <td>Fort Lauderdale</td>\n",
       "      <td>Florida</td>\n",
       "      <td>33311</td>\n",
       "      <td>South</td>\n",
       "      <td>Furniture</td>\n",
       "      <td>Tables</td>\n",
       "      <td>957.5775</td>\n",
       "      <td>5</td>\n",
       "      <td>0.45</td>\n",
       "      <td>-383.0310</td>\n",
       "    </tr>\n",
       "    <tr>\n",
       "      <th>14</th>\n",
       "      <td>Standard Class</td>\n",
       "      <td>Home Office</td>\n",
       "      <td>United States</td>\n",
       "      <td>Fort Worth</td>\n",
       "      <td>Texas</td>\n",
       "      <td>76106</td>\n",
       "      <td>Central</td>\n",
       "      <td>Office Supplies</td>\n",
       "      <td>Appliances</td>\n",
       "      <td>68.8100</td>\n",
       "      <td>5</td>\n",
       "      <td>0.80</td>\n",
       "      <td>-123.8580</td>\n",
       "    </tr>\n",
       "    <tr>\n",
       "      <th>15</th>\n",
       "      <td>Standard Class</td>\n",
       "      <td>Home Office</td>\n",
       "      <td>United States</td>\n",
       "      <td>Fort Worth</td>\n",
       "      <td>Texas</td>\n",
       "      <td>76106</td>\n",
       "      <td>Central</td>\n",
       "      <td>Office Supplies</td>\n",
       "      <td>Binders</td>\n",
       "      <td>2.5440</td>\n",
       "      <td>3</td>\n",
       "      <td>0.80</td>\n",
       "      <td>-3.8160</td>\n",
       "    </tr>\n",
       "    <tr>\n",
       "      <th>23</th>\n",
       "      <td>Second Class</td>\n",
       "      <td>Consumer</td>\n",
       "      <td>United States</td>\n",
       "      <td>Philadelphia</td>\n",
       "      <td>Pennsylvania</td>\n",
       "      <td>19140</td>\n",
       "      <td>East</td>\n",
       "      <td>Furniture</td>\n",
       "      <td>Chairs</td>\n",
       "      <td>71.3720</td>\n",
       "      <td>2</td>\n",
       "      <td>0.30</td>\n",
       "      <td>-1.0196</td>\n",
       "    </tr>\n",
       "    <tr>\n",
       "      <th>27</th>\n",
       "      <td>Standard Class</td>\n",
       "      <td>Consumer</td>\n",
       "      <td>United States</td>\n",
       "      <td>Philadelphia</td>\n",
       "      <td>Pennsylvania</td>\n",
       "      <td>19140</td>\n",
       "      <td>East</td>\n",
       "      <td>Furniture</td>\n",
       "      <td>Bookcases</td>\n",
       "      <td>3083.4300</td>\n",
       "      <td>7</td>\n",
       "      <td>0.50</td>\n",
       "      <td>-1665.0522</td>\n",
       "    </tr>\n",
       "    <tr>\n",
       "      <th>...</th>\n",
       "      <td>...</td>\n",
       "      <td>...</td>\n",
       "      <td>...</td>\n",
       "      <td>...</td>\n",
       "      <td>...</td>\n",
       "      <td>...</td>\n",
       "      <td>...</td>\n",
       "      <td>...</td>\n",
       "      <td>...</td>\n",
       "      <td>...</td>\n",
       "      <td>...</td>\n",
       "      <td>...</td>\n",
       "      <td>...</td>\n",
       "    </tr>\n",
       "    <tr>\n",
       "      <th>9920</th>\n",
       "      <td>Standard Class</td>\n",
       "      <td>Corporate</td>\n",
       "      <td>United States</td>\n",
       "      <td>Bryan</td>\n",
       "      <td>Texas</td>\n",
       "      <td>77803</td>\n",
       "      <td>Central</td>\n",
       "      <td>Office Supplies</td>\n",
       "      <td>Binders</td>\n",
       "      <td>22.3860</td>\n",
       "      <td>7</td>\n",
       "      <td>0.80</td>\n",
       "      <td>-35.8176</td>\n",
       "    </tr>\n",
       "    <tr>\n",
       "      <th>9921</th>\n",
       "      <td>Standard Class</td>\n",
       "      <td>Home Office</td>\n",
       "      <td>United States</td>\n",
       "      <td>Akron</td>\n",
       "      <td>Ohio</td>\n",
       "      <td>44312</td>\n",
       "      <td>East</td>\n",
       "      <td>Office Supplies</td>\n",
       "      <td>Binders</td>\n",
       "      <td>5.7420</td>\n",
       "      <td>3</td>\n",
       "      <td>0.70</td>\n",
       "      <td>-4.5936</td>\n",
       "    </tr>\n",
       "    <tr>\n",
       "      <th>9931</th>\n",
       "      <td>Standard Class</td>\n",
       "      <td>Consumer</td>\n",
       "      <td>United States</td>\n",
       "      <td>San Bernardino</td>\n",
       "      <td>California</td>\n",
       "      <td>92404</td>\n",
       "      <td>West</td>\n",
       "      <td>Furniture</td>\n",
       "      <td>Bookcases</td>\n",
       "      <td>683.3320</td>\n",
       "      <td>4</td>\n",
       "      <td>0.15</td>\n",
       "      <td>-40.1960</td>\n",
       "    </tr>\n",
       "    <tr>\n",
       "      <th>9937</th>\n",
       "      <td>Second Class</td>\n",
       "      <td>Corporate</td>\n",
       "      <td>United States</td>\n",
       "      <td>Los Angeles</td>\n",
       "      <td>California</td>\n",
       "      <td>90049</td>\n",
       "      <td>West</td>\n",
       "      <td>Furniture</td>\n",
       "      <td>Tables</td>\n",
       "      <td>71.0880</td>\n",
       "      <td>2</td>\n",
       "      <td>0.20</td>\n",
       "      <td>-1.7772</td>\n",
       "    </tr>\n",
       "    <tr>\n",
       "      <th>9962</th>\n",
       "      <td>First Class</td>\n",
       "      <td>Home Office</td>\n",
       "      <td>United States</td>\n",
       "      <td>Houston</td>\n",
       "      <td>Texas</td>\n",
       "      <td>77041</td>\n",
       "      <td>Central</td>\n",
       "      <td>Furniture</td>\n",
       "      <td>Bookcases</td>\n",
       "      <td>383.4656</td>\n",
       "      <td>4</td>\n",
       "      <td>0.32</td>\n",
       "      <td>-67.6704</td>\n",
       "    </tr>\n",
       "  </tbody>\n",
       "</table>\n",
       "<p>1871 rows × 13 columns</p>\n",
       "</div>"
      ],
      "text/plain": [
       "           Ship Mode      Segment        Country             City  \\\n",
       "3     Standard Class     Consumer  United States  Fort Lauderdale   \n",
       "14    Standard Class  Home Office  United States       Fort Worth   \n",
       "15    Standard Class  Home Office  United States       Fort Worth   \n",
       "23      Second Class     Consumer  United States     Philadelphia   \n",
       "27    Standard Class     Consumer  United States     Philadelphia   \n",
       "...              ...          ...            ...              ...   \n",
       "9920  Standard Class    Corporate  United States            Bryan   \n",
       "9921  Standard Class  Home Office  United States            Akron   \n",
       "9931  Standard Class     Consumer  United States   San Bernardino   \n",
       "9937    Second Class    Corporate  United States      Los Angeles   \n",
       "9962     First Class  Home Office  United States          Houston   \n",
       "\n",
       "             State  Postal Code   Region         Category Sub-Category  \\\n",
       "3          Florida        33311    South        Furniture       Tables   \n",
       "14           Texas        76106  Central  Office Supplies   Appliances   \n",
       "15           Texas        76106  Central  Office Supplies      Binders   \n",
       "23    Pennsylvania        19140     East        Furniture       Chairs   \n",
       "27    Pennsylvania        19140     East        Furniture    Bookcases   \n",
       "...            ...          ...      ...              ...          ...   \n",
       "9920         Texas        77803  Central  Office Supplies      Binders   \n",
       "9921          Ohio        44312     East  Office Supplies      Binders   \n",
       "9931    California        92404     West        Furniture    Bookcases   \n",
       "9937    California        90049     West        Furniture       Tables   \n",
       "9962         Texas        77041  Central        Furniture    Bookcases   \n",
       "\n",
       "          Sales  Quantity  Discount     Profit  \n",
       "3      957.5775         5      0.45  -383.0310  \n",
       "14      68.8100         5      0.80  -123.8580  \n",
       "15       2.5440         3      0.80    -3.8160  \n",
       "23      71.3720         2      0.30    -1.0196  \n",
       "27    3083.4300         7      0.50 -1665.0522  \n",
       "...         ...       ...       ...        ...  \n",
       "9920    22.3860         7      0.80   -35.8176  \n",
       "9921     5.7420         3      0.70    -4.5936  \n",
       "9931   683.3320         4      0.15   -40.1960  \n",
       "9937    71.0880         2      0.20    -1.7772  \n",
       "9962   383.4656         4      0.32   -67.6704  \n",
       "\n",
       "[1871 rows x 13 columns]"
      ]
     },
     "execution_count": 22,
     "metadata": {},
     "output_type": "execute_result"
    }
   ],
   "source": [
    "#create loss dataframe of profit less than zero.\n",
    "loss=data[data[\"Profit\"]<0]\n",
    "loss"
   ]
  },
  {
   "cell_type": "code",
   "execution_count": 23,
   "id": "eb34b4d1",
   "metadata": {},
   "outputs": [
    {
     "data": {
      "text/plain": [
       "(1871, 13)"
      ]
     },
     "execution_count": 23,
     "metadata": {},
     "output_type": "execute_result"
    }
   ],
   "source": [
    "#View the shape of loss dataframe\n",
    "loss.shape"
   ]
  },
  {
   "cell_type": "markdown",
   "id": "7b2afd4f",
   "metadata": {},
   "source": [
    "Loss dataframe contain 1871 rows and 13 columns.\n",
    "\n",
    "From that we can see that, there are 9994 rows are in total data and we have 1871 rows that are in loss dataframe."
   ]
  },
  {
   "cell_type": "code",
   "execution_count": 24,
   "id": "cd08a39d",
   "metadata": {},
   "outputs": [
    {
     "data": {
      "text/html": [
       "<div>\n",
       "<style scoped>\n",
       "    .dataframe tbody tr th:only-of-type {\n",
       "        vertical-align: middle;\n",
       "    }\n",
       "\n",
       "    .dataframe tbody tr th {\n",
       "        vertical-align: top;\n",
       "    }\n",
       "\n",
       "    .dataframe thead th {\n",
       "        text-align: right;\n",
       "    }\n",
       "</style>\n",
       "<table border=\"1\" class=\"dataframe\">\n",
       "  <thead>\n",
       "    <tr style=\"text-align: right;\">\n",
       "      <th></th>\n",
       "      <th>Postal Code</th>\n",
       "      <th>Sales</th>\n",
       "      <th>Quantity</th>\n",
       "      <th>Discount</th>\n",
       "      <th>Profit</th>\n",
       "    </tr>\n",
       "  </thead>\n",
       "  <tbody>\n",
       "    <tr>\n",
       "      <th>count</th>\n",
       "      <td>1871.000000</td>\n",
       "      <td>1871.000000</td>\n",
       "      <td>1871.000000</td>\n",
       "      <td>1871.000000</td>\n",
       "      <td>1871.000000</td>\n",
       "    </tr>\n",
       "    <tr>\n",
       "      <th>mean</th>\n",
       "      <td>55991.122929</td>\n",
       "      <td>250.511574</td>\n",
       "      <td>3.762694</td>\n",
       "      <td>0.480887</td>\n",
       "      <td>-83.448042</td>\n",
       "    </tr>\n",
       "    <tr>\n",
       "      <th>std</th>\n",
       "      <td>26041.501999</td>\n",
       "      <td>715.067296</td>\n",
       "      <td>2.141347</td>\n",
       "      <td>0.235080</td>\n",
       "      <td>284.423422</td>\n",
       "    </tr>\n",
       "    <tr>\n",
       "      <th>min</th>\n",
       "      <td>1841.000000</td>\n",
       "      <td>0.444000</td>\n",
       "      <td>1.000000</td>\n",
       "      <td>0.100000</td>\n",
       "      <td>-6599.978000</td>\n",
       "    </tr>\n",
       "    <tr>\n",
       "      <th>25%</th>\n",
       "      <td>33024.000000</td>\n",
       "      <td>12.503000</td>\n",
       "      <td>2.000000</td>\n",
       "      <td>0.200000</td>\n",
       "      <td>-58.660950</td>\n",
       "    </tr>\n",
       "    <tr>\n",
       "      <th>50%</th>\n",
       "      <td>60623.000000</td>\n",
       "      <td>71.088000</td>\n",
       "      <td>3.000000</td>\n",
       "      <td>0.400000</td>\n",
       "      <td>-18.088200</td>\n",
       "    </tr>\n",
       "    <tr>\n",
       "      <th>75%</th>\n",
       "      <td>77095.000000</td>\n",
       "      <td>284.922000</td>\n",
       "      <td>5.000000</td>\n",
       "      <td>0.700000</td>\n",
       "      <td>-6.261500</td>\n",
       "    </tr>\n",
       "    <tr>\n",
       "      <th>max</th>\n",
       "      <td>98198.000000</td>\n",
       "      <td>22638.480000</td>\n",
       "      <td>14.000000</td>\n",
       "      <td>0.800000</td>\n",
       "      <td>-0.089500</td>\n",
       "    </tr>\n",
       "  </tbody>\n",
       "</table>\n",
       "</div>"
      ],
      "text/plain": [
       "        Postal Code         Sales     Quantity     Discount       Profit\n",
       "count   1871.000000   1871.000000  1871.000000  1871.000000  1871.000000\n",
       "mean   55991.122929    250.511574     3.762694     0.480887   -83.448042\n",
       "std    26041.501999    715.067296     2.141347     0.235080   284.423422\n",
       "min     1841.000000      0.444000     1.000000     0.100000 -6599.978000\n",
       "25%    33024.000000     12.503000     2.000000     0.200000   -58.660950\n",
       "50%    60623.000000     71.088000     3.000000     0.400000   -18.088200\n",
       "75%    77095.000000    284.922000     5.000000     0.700000    -6.261500\n",
       "max    98198.000000  22638.480000    14.000000     0.800000    -0.089500"
      ]
     },
     "execution_count": 24,
     "metadata": {},
     "output_type": "execute_result"
    }
   ],
   "source": [
    "loss.describe()"
   ]
  },
  {
   "cell_type": "code",
   "execution_count": 25,
   "id": "d7cce7f0",
   "metadata": {},
   "outputs": [
    {
     "name": "stdout",
     "output_type": "stream",
     "text": [
      "Total loss= 156131.2857\n"
     ]
    }
   ],
   "source": [
    "#to check total loss.\n",
    "total_loss=np.negative(loss[\"Profit\"].sum())\n",
    "print(\"Total loss=\", total_loss)"
   ]
  },
  {
   "cell_type": "code",
   "execution_count": 26,
   "id": "472463bf",
   "metadata": {},
   "outputs": [
    {
     "data": {
      "text/html": [
       "<div>\n",
       "<style scoped>\n",
       "    .dataframe tbody tr th:only-of-type {\n",
       "        vertical-align: middle;\n",
       "    }\n",
       "\n",
       "    .dataframe tbody tr th {\n",
       "        vertical-align: top;\n",
       "    }\n",
       "\n",
       "    .dataframe thead th {\n",
       "        text-align: right;\n",
       "    }\n",
       "</style>\n",
       "<table border=\"1\" class=\"dataframe\">\n",
       "  <thead>\n",
       "    <tr style=\"text-align: right;\">\n",
       "      <th></th>\n",
       "      <th>Postal Code</th>\n",
       "      <th>Sales</th>\n",
       "      <th>Quantity</th>\n",
       "      <th>Discount</th>\n",
       "      <th>Profit</th>\n",
       "    </tr>\n",
       "    <tr>\n",
       "      <th>Segment</th>\n",
       "      <th></th>\n",
       "      <th></th>\n",
       "      <th></th>\n",
       "      <th></th>\n",
       "      <th></th>\n",
       "    </tr>\n",
       "  </thead>\n",
       "  <tbody>\n",
       "    <tr>\n",
       "      <th>Consumer</th>\n",
       "      <td>57202260</td>\n",
       "      <td>247196.2460</td>\n",
       "      <td>3651</td>\n",
       "      <td>476.76</td>\n",
       "      <td>-84945.7112</td>\n",
       "    </tr>\n",
       "    <tr>\n",
       "      <th>Corporate</th>\n",
       "      <td>30034273</td>\n",
       "      <td>131860.5383</td>\n",
       "      <td>2191</td>\n",
       "      <td>272.00</td>\n",
       "      <td>-44787.2076</td>\n",
       "    </tr>\n",
       "    <tr>\n",
       "      <th>Home Office</th>\n",
       "      <td>17522858</td>\n",
       "      <td>89650.3705</td>\n",
       "      <td>1198</td>\n",
       "      <td>150.98</td>\n",
       "      <td>-26398.3669</td>\n",
       "    </tr>\n",
       "  </tbody>\n",
       "</table>\n",
       "</div>"
      ],
      "text/plain": [
       "             Postal Code        Sales  Quantity  Discount      Profit\n",
       "Segment                                                              \n",
       "Consumer        57202260  247196.2460      3651    476.76 -84945.7112\n",
       "Corporate       30034273  131860.5383      2191    272.00 -44787.2076\n",
       "Home Office     17522858   89650.3705      1198    150.98 -26398.3669"
      ]
     },
     "execution_count": 26,
     "metadata": {},
     "output_type": "execute_result"
    }
   ],
   "source": [
    "loss.groupby(by=\"Segment\").sum()\n"
   ]
  },
  {
   "cell_type": "markdown",
   "id": "264bea59",
   "metadata": {},
   "source": [
    "We can see that, Home Office has more losses with maximum discount.\n",
    "To make more profit provider need to reduce the discounts."
   ]
  },
  {
   "cell_type": "code",
   "execution_count": 29,
   "id": "d7d016e7",
   "metadata": {},
   "outputs": [
    {
     "data": {
      "text/html": [
       "<div>\n",
       "<style scoped>\n",
       "    .dataframe tbody tr th:only-of-type {\n",
       "        vertical-align: middle;\n",
       "    }\n",
       "\n",
       "    .dataframe tbody tr th {\n",
       "        vertical-align: top;\n",
       "    }\n",
       "\n",
       "    .dataframe thead th {\n",
       "        text-align: right;\n",
       "    }\n",
       "</style>\n",
       "<table border=\"1\" class=\"dataframe\">\n",
       "  <thead>\n",
       "    <tr style=\"text-align: right;\">\n",
       "      <th></th>\n",
       "      <th>Postal Code</th>\n",
       "      <th>Sales</th>\n",
       "      <th>Quantity</th>\n",
       "      <th>Discount</th>\n",
       "      <th>Profit</th>\n",
       "    </tr>\n",
       "    <tr>\n",
       "      <th>City</th>\n",
       "      <th></th>\n",
       "      <th></th>\n",
       "      <th></th>\n",
       "      <th></th>\n",
       "      <th></th>\n",
       "    </tr>\n",
       "  </thead>\n",
       "  <tbody>\n",
       "    <tr>\n",
       "      <th>Philadelphia</th>\n",
       "      <td>4783713</td>\n",
       "      <td>70460.5510</td>\n",
       "      <td>892</td>\n",
       "      <td>115.30</td>\n",
       "      <td>-19590.7411</td>\n",
       "    </tr>\n",
       "    <tr>\n",
       "      <th>Houston</th>\n",
       "      <td>14256474</td>\n",
       "      <td>37640.7304</td>\n",
       "      <td>683</td>\n",
       "      <td>104.14</td>\n",
       "      <td>-14785.3668</td>\n",
       "    </tr>\n",
       "    <tr>\n",
       "      <th>Chicago</th>\n",
       "      <td>9397492</td>\n",
       "      <td>19910.0120</td>\n",
       "      <td>541</td>\n",
       "      <td>88.20</td>\n",
       "      <td>-11120.6271</td>\n",
       "    </tr>\n",
       "    <tr>\n",
       "      <th>San Antonio</th>\n",
       "      <td>2580831</td>\n",
       "      <td>17395.1450</td>\n",
       "      <td>139</td>\n",
       "      <td>17.10</td>\n",
       "      <td>-7831.0254</td>\n",
       "    </tr>\n",
       "    <tr>\n",
       "      <th>Lancaster</th>\n",
       "      <td>683904</td>\n",
       "      <td>7699.2420</td>\n",
       "      <td>71</td>\n",
       "      <td>9.40</td>\n",
       "      <td>-7632.4946</td>\n",
       "    </tr>\n",
       "    <tr>\n",
       "      <th>Burlington</th>\n",
       "      <td>108868</td>\n",
       "      <td>12044.8740</td>\n",
       "      <td>19</td>\n",
       "      <td>2.00</td>\n",
       "      <td>-5999.3318</td>\n",
       "    </tr>\n",
       "    <tr>\n",
       "      <th>Dallas</th>\n",
       "      <td>5487794</td>\n",
       "      <td>9994.0562</td>\n",
       "      <td>280</td>\n",
       "      <td>39.30</td>\n",
       "      <td>-4208.5218</td>\n",
       "    </tr>\n",
       "    <tr>\n",
       "      <th>Jacksonville</th>\n",
       "      <td>1237176</td>\n",
       "      <td>31146.2710</td>\n",
       "      <td>154</td>\n",
       "      <td>18.85</td>\n",
       "      <td>-4059.9857</td>\n",
       "    </tr>\n",
       "    <tr>\n",
       "      <th>New York City</th>\n",
       "      <td>400828</td>\n",
       "      <td>19533.8020</td>\n",
       "      <td>132</td>\n",
       "      <td>12.20</td>\n",
       "      <td>-3966.0226</td>\n",
       "    </tr>\n",
       "    <tr>\n",
       "      <th>Louisville</th>\n",
       "      <td>640216</td>\n",
       "      <td>2884.7840</td>\n",
       "      <td>35</td>\n",
       "      <td>4.90</td>\n",
       "      <td>-3694.1045</td>\n",
       "    </tr>\n",
       "  </tbody>\n",
       "</table>\n",
       "</div>"
      ],
      "text/plain": [
       "               Postal Code       Sales  Quantity  Discount      Profit\n",
       "City                                                                  \n",
       "Philadelphia       4783713  70460.5510       892    115.30 -19590.7411\n",
       "Houston           14256474  37640.7304       683    104.14 -14785.3668\n",
       "Chicago            9397492  19910.0120       541     88.20 -11120.6271\n",
       "San Antonio        2580831  17395.1450       139     17.10  -7831.0254\n",
       "Lancaster           683904   7699.2420        71      9.40  -7632.4946\n",
       "Burlington          108868  12044.8740        19      2.00  -5999.3318\n",
       "Dallas             5487794   9994.0562       280     39.30  -4208.5218\n",
       "Jacksonville       1237176  31146.2710       154     18.85  -4059.9857\n",
       "New York City       400828  19533.8020       132     12.20  -3966.0226\n",
       "Louisville          640216   2884.7840        35      4.90  -3694.1045"
      ]
     },
     "execution_count": 29,
     "metadata": {},
     "output_type": "execute_result"
    }
   ],
   "source": [
    "loss.groupby(by=\"City\").sum().sort_values(\"Profit\").head(10)"
   ]
  },
  {
   "cell_type": "markdown",
   "id": "3f8d05d3",
   "metadata": {},
   "source": [
    "The above list is the top 10 cities where loss is high."
   ]
  },
  {
   "cell_type": "code",
   "execution_count": 31,
   "id": "2201229e",
   "metadata": {},
   "outputs": [
    {
     "data": {
      "text/plain": [
       "State\n",
       "North Dakota             919.910\n",
       "West Virginia           1209.824\n",
       "Maine                   1270.530\n",
       "South Dakota            1315.560\n",
       "Wyoming                 1603.136\n",
       "District of Columbia    2865.020\n",
       "Kansas                  2914.310\n",
       "Idaho                   4382.486\n",
       "Iowa                    4579.760\n",
       "New Mexico              4783.522\n",
       "Name: Sales, dtype: float64"
      ]
     },
     "execution_count": 31,
     "metadata": {},
     "output_type": "execute_result"
    }
   ],
   "source": [
    "data.groupby([\"State\"]).sum()[\"Sales\"].nsmallest(10)"
   ]
  },
  {
   "cell_type": "markdown",
   "id": "e48cd20d",
   "metadata": {},
   "source": [
    "The above list is the top 10 states where sale is low."
   ]
  },
  {
   "cell_type": "code",
   "execution_count": 32,
   "id": "77008661",
   "metadata": {},
   "outputs": [
    {
     "data": {
      "text/html": [
       "<div>\n",
       "<style scoped>\n",
       "    .dataframe tbody tr th:only-of-type {\n",
       "        vertical-align: middle;\n",
       "    }\n",
       "\n",
       "    .dataframe tbody tr th {\n",
       "        vertical-align: top;\n",
       "    }\n",
       "\n",
       "    .dataframe thead th {\n",
       "        text-align: right;\n",
       "    }\n",
       "</style>\n",
       "<table border=\"1\" class=\"dataframe\">\n",
       "  <thead>\n",
       "    <tr style=\"text-align: right;\">\n",
       "      <th></th>\n",
       "      <th>Postal Code</th>\n",
       "      <th>Sales</th>\n",
       "      <th>Quantity</th>\n",
       "      <th>Discount</th>\n",
       "      <th>Profit</th>\n",
       "    </tr>\n",
       "    <tr>\n",
       "      <th>Category</th>\n",
       "      <th></th>\n",
       "      <th></th>\n",
       "      <th></th>\n",
       "      <th></th>\n",
       "      <th></th>\n",
       "    </tr>\n",
       "  </thead>\n",
       "  <tbody>\n",
       "    <tr>\n",
       "      <th>Furniture</th>\n",
       "      <td>59700.907563</td>\n",
       "      <td>361.184295</td>\n",
       "      <td>3.714286</td>\n",
       "      <td>0.367143</td>\n",
       "      <td>-85.344690</td>\n",
       "    </tr>\n",
       "    <tr>\n",
       "      <th>Office Supplies</th>\n",
       "      <td>54746.056433</td>\n",
       "      <td>103.395796</td>\n",
       "      <td>3.865688</td>\n",
       "      <td>0.617607</td>\n",
       "      <td>-63.899840</td>\n",
       "    </tr>\n",
       "    <tr>\n",
       "      <th>Technology</th>\n",
       "      <td>50287.590406</td>\n",
       "      <td>439.899974</td>\n",
       "      <td>3.553506</td>\n",
       "      <td>0.333579</td>\n",
       "      <td>-142.361322</td>\n",
       "    </tr>\n",
       "  </tbody>\n",
       "</table>\n",
       "</div>"
      ],
      "text/plain": [
       "                  Postal Code       Sales  Quantity  Discount      Profit\n",
       "Category                                                                 \n",
       "Furniture        59700.907563  361.184295  3.714286  0.367143  -85.344690\n",
       "Office Supplies  54746.056433  103.395796  3.865688  0.617607  -63.899840\n",
       "Technology       50287.590406  439.899974  3.553506  0.333579 -142.361322"
      ]
     },
     "execution_count": 32,
     "metadata": {},
     "output_type": "execute_result"
    }
   ],
   "source": [
    "loss.sort_values([\"Sales\"]).groupby(by=\"Category\").mean()"
   ]
  },
  {
   "cell_type": "markdown",
   "id": "6fdb5392",
   "metadata": {},
   "source": [
    "We see that, the sale of technology is high, still it bear most losses, may be due to less discounts.\n",
    "It's better to give some extra discount on Technology."
   ]
  },
  {
   "cell_type": "code",
   "execution_count": 33,
   "id": "116dceeb",
   "metadata": {},
   "outputs": [
    {
     "data": {
      "text/html": [
       "<div>\n",
       "<style scoped>\n",
       "    .dataframe tbody tr th:only-of-type {\n",
       "        vertical-align: middle;\n",
       "    }\n",
       "\n",
       "    .dataframe tbody tr th {\n",
       "        vertical-align: top;\n",
       "    }\n",
       "\n",
       "    .dataframe thead th {\n",
       "        text-align: right;\n",
       "    }\n",
       "</style>\n",
       "<table border=\"1\" class=\"dataframe\">\n",
       "  <thead>\n",
       "    <tr style=\"text-align: right;\">\n",
       "      <th></th>\n",
       "      <th>Postal Code</th>\n",
       "      <th>Sales</th>\n",
       "      <th>Quantity</th>\n",
       "      <th>Discount</th>\n",
       "      <th>Profit</th>\n",
       "    </tr>\n",
       "    <tr>\n",
       "      <th>Segment</th>\n",
       "      <th></th>\n",
       "      <th></th>\n",
       "      <th></th>\n",
       "      <th></th>\n",
       "      <th></th>\n",
       "    </tr>\n",
       "  </thead>\n",
       "  <tbody>\n",
       "    <tr>\n",
       "      <th>Consumer</th>\n",
       "      <td>288878609</td>\n",
       "      <td>1.161401e+06</td>\n",
       "      <td>19521</td>\n",
       "      <td>820.91</td>\n",
       "      <td>134119.2092</td>\n",
       "    </tr>\n",
       "    <tr>\n",
       "      <th>Corporate</th>\n",
       "      <td>164536330</td>\n",
       "      <td>7.061464e+05</td>\n",
       "      <td>11608</td>\n",
       "      <td>477.85</td>\n",
       "      <td>91979.1340</td>\n",
       "    </tr>\n",
       "    <tr>\n",
       "      <th>Home Office</th>\n",
       "      <td>98157713</td>\n",
       "      <td>4.296531e+05</td>\n",
       "      <td>6744</td>\n",
       "      <td>262.33</td>\n",
       "      <td>60298.6785</td>\n",
       "    </tr>\n",
       "  </tbody>\n",
       "</table>\n",
       "</div>"
      ],
      "text/plain": [
       "             Postal Code         Sales  Quantity  Discount       Profit\n",
       "Segment                                                                \n",
       "Consumer       288878609  1.161401e+06     19521    820.91  134119.2092\n",
       "Corporate      164536330  7.061464e+05     11608    477.85   91979.1340\n",
       "Home Office     98157713  4.296531e+05      6744    262.33   60298.6785"
      ]
     },
     "execution_count": 33,
     "metadata": {},
     "output_type": "execute_result"
    }
   ],
   "source": [
    "data.sort_values([\"Segment\"]).groupby(\"Segment\").sum()"
   ]
  },
  {
   "cell_type": "markdown",
   "id": "a8b37779",
   "metadata": {},
   "source": [
    "The less profit occure in the corporate segment. It's better to focus on Corporate segment."
   ]
  },
  {
   "cell_type": "code",
   "execution_count": 34,
   "id": "dc0489a2",
   "metadata": {},
   "outputs": [
    {
     "data": {
      "text/plain": [
       "Binders        613\n",
       "Chairs         235\n",
       "Tables         203\n",
       "Furnishings    167\n",
       "Storage        161\n",
       "Phones         136\n",
       "Bookcases      109\n",
       "Accessories     91\n",
       "Appliances      67\n",
       "Machines        44\n",
       "Supplies        33\n",
       "Fasteners       12\n",
       "Name: Sub-Category, dtype: int64"
      ]
     },
     "execution_count": 34,
     "metadata": {},
     "output_type": "execute_result"
    }
   ],
   "source": [
    "loss[\"Sub-Category\"].value_counts()"
   ]
  },
  {
   "cell_type": "code",
   "execution_count": 35,
   "id": "54e2e044",
   "metadata": {},
   "outputs": [
    {
     "data": {
      "text/html": [
       "<div>\n",
       "<style scoped>\n",
       "    .dataframe tbody tr th:only-of-type {\n",
       "        vertical-align: middle;\n",
       "    }\n",
       "\n",
       "    .dataframe tbody tr th {\n",
       "        vertical-align: top;\n",
       "    }\n",
       "\n",
       "    .dataframe thead th {\n",
       "        text-align: right;\n",
       "    }\n",
       "</style>\n",
       "<table border=\"1\" class=\"dataframe\">\n",
       "  <thead>\n",
       "    <tr style=\"text-align: right;\">\n",
       "      <th></th>\n",
       "      <th>Postal Code</th>\n",
       "      <th>Sales</th>\n",
       "      <th>Quantity</th>\n",
       "      <th>Discount</th>\n",
       "      <th>Profit</th>\n",
       "    </tr>\n",
       "    <tr>\n",
       "      <th>Sub-Category</th>\n",
       "      <th></th>\n",
       "      <th></th>\n",
       "      <th></th>\n",
       "      <th></th>\n",
       "      <th></th>\n",
       "    </tr>\n",
       "  </thead>\n",
       "  <tbody>\n",
       "    <tr>\n",
       "      <th>Accessories</th>\n",
       "      <td>5286382</td>\n",
       "      <td>10958.8000</td>\n",
       "      <td>330</td>\n",
       "      <td>18.20</td>\n",
       "      <td>-930.6265</td>\n",
       "    </tr>\n",
       "    <tr>\n",
       "      <th>Appliances</th>\n",
       "      <td>4825871</td>\n",
       "      <td>3382.5340</td>\n",
       "      <td>235</td>\n",
       "      <td>53.60</td>\n",
       "      <td>-8629.6412</td>\n",
       "    </tr>\n",
       "    <tr>\n",
       "      <th>Binders</th>\n",
       "      <td>32609300</td>\n",
       "      <td>36140.6130</td>\n",
       "      <td>2456</td>\n",
       "      <td>452.40</td>\n",
       "      <td>-38510.4964</td>\n",
       "    </tr>\n",
       "    <tr>\n",
       "      <th>Bookcases</th>\n",
       "      <td>6423506</td>\n",
       "      <td>48072.7408</td>\n",
       "      <td>422</td>\n",
       "      <td>37.99</td>\n",
       "      <td>-12152.2060</td>\n",
       "    </tr>\n",
       "    <tr>\n",
       "      <th>Chairs</th>\n",
       "      <td>15008025</td>\n",
       "      <td>91988.4560</td>\n",
       "      <td>876</td>\n",
       "      <td>61.40</td>\n",
       "      <td>-9880.8413</td>\n",
       "    </tr>\n",
       "    <tr>\n",
       "      <th>Fasteners</th>\n",
       "      <td>701930</td>\n",
       "      <td>149.2800</td>\n",
       "      <td>55</td>\n",
       "      <td>2.40</td>\n",
       "      <td>-33.1952</td>\n",
       "    </tr>\n",
       "    <tr>\n",
       "      <th>Furnishings</th>\n",
       "      <td>10970913</td>\n",
       "      <td>12845.8440</td>\n",
       "      <td>597</td>\n",
       "      <td>88.60</td>\n",
       "      <td>-6490.9134</td>\n",
       "    </tr>\n",
       "    <tr>\n",
       "      <th>Machines</th>\n",
       "      <td>2236261</td>\n",
       "      <td>72456.2530</td>\n",
       "      <td>157</td>\n",
       "      <td>25.60</td>\n",
       "      <td>-30118.6682</td>\n",
       "    </tr>\n",
       "    <tr>\n",
       "      <th>Phones</th>\n",
       "      <td>6105294</td>\n",
       "      <td>35797.8400</td>\n",
       "      <td>476</td>\n",
       "      <td>46.60</td>\n",
       "      <td>-7530.6235</td>\n",
       "    </tr>\n",
       "    <tr>\n",
       "      <th>Storage</th>\n",
       "      <td>8606475</td>\n",
       "      <td>37869.0720</td>\n",
       "      <td>569</td>\n",
       "      <td>32.20</td>\n",
       "      <td>-6426.3038</td>\n",
       "    </tr>\n",
       "    <tr>\n",
       "      <th>Supplies</th>\n",
       "      <td>1761430</td>\n",
       "      <td>14067.1760</td>\n",
       "      <td>110</td>\n",
       "      <td>6.60</td>\n",
       "      <td>-3015.6219</td>\n",
       "    </tr>\n",
       "    <tr>\n",
       "      <th>Tables</th>\n",
       "      <td>10224004</td>\n",
       "      <td>104978.5460</td>\n",
       "      <td>757</td>\n",
       "      <td>74.15</td>\n",
       "      <td>-32412.1483</td>\n",
       "    </tr>\n",
       "  </tbody>\n",
       "</table>\n",
       "</div>"
      ],
      "text/plain": [
       "              Postal Code        Sales  Quantity  Discount      Profit\n",
       "Sub-Category                                                          \n",
       "Accessories       5286382   10958.8000       330     18.20   -930.6265\n",
       "Appliances        4825871    3382.5340       235     53.60  -8629.6412\n",
       "Binders          32609300   36140.6130      2456    452.40 -38510.4964\n",
       "Bookcases         6423506   48072.7408       422     37.99 -12152.2060\n",
       "Chairs           15008025   91988.4560       876     61.40  -9880.8413\n",
       "Fasteners          701930     149.2800        55      2.40    -33.1952\n",
       "Furnishings      10970913   12845.8440       597     88.60  -6490.9134\n",
       "Machines          2236261   72456.2530       157     25.60 -30118.6682\n",
       "Phones            6105294   35797.8400       476     46.60  -7530.6235\n",
       "Storage           8606475   37869.0720       569     32.20  -6426.3038\n",
       "Supplies          1761430   14067.1760       110      6.60  -3015.6219\n",
       "Tables           10224004  104978.5460       757     74.15 -32412.1483"
      ]
     },
     "execution_count": 35,
     "metadata": {},
     "output_type": "execute_result"
    }
   ],
   "source": [
    "loss.groupby(by=\"Sub-Category\").sum()"
   ]
  },
  {
   "cell_type": "markdown",
   "id": "0a31ea25",
   "metadata": {},
   "source": [
    "We can observe that Binders category has more loss as compare to other followed by machines category and table category.\n",
    "\n",
    "Binder are more getting sold with less discounts, So to increase profit, give better discounts on which are getting less sold, ao that even they will start getting sold more.\n"
   ]
  },
  {
   "cell_type": "code",
   "execution_count": 37,
   "id": "d675a26c",
   "metadata": {},
   "outputs": [
    {
     "data": {
      "text/html": [
       "<div>\n",
       "<style scoped>\n",
       "    .dataframe tbody tr th:only-of-type {\n",
       "        vertical-align: middle;\n",
       "    }\n",
       "\n",
       "    .dataframe tbody tr th {\n",
       "        vertical-align: top;\n",
       "    }\n",
       "\n",
       "    .dataframe thead th {\n",
       "        text-align: right;\n",
       "    }\n",
       "</style>\n",
       "<table border=\"1\" class=\"dataframe\">\n",
       "  <thead>\n",
       "    <tr style=\"text-align: right;\">\n",
       "      <th></th>\n",
       "      <th>Postal Code</th>\n",
       "      <th>Sales</th>\n",
       "      <th>Quantity</th>\n",
       "      <th>Discount</th>\n",
       "      <th>Profit</th>\n",
       "    </tr>\n",
       "    <tr>\n",
       "      <th>Region</th>\n",
       "      <th></th>\n",
       "      <th></th>\n",
       "      <th></th>\n",
       "      <th></th>\n",
       "      <th></th>\n",
       "    </tr>\n",
       "  </thead>\n",
       "  <tbody>\n",
       "    <tr>\n",
       "      <th>Central</th>\n",
       "      <td>151786150</td>\n",
       "      <td>501239.8908</td>\n",
       "      <td>8780</td>\n",
       "      <td>558.34</td>\n",
       "      <td>39706.3625</td>\n",
       "    </tr>\n",
       "    <tr>\n",
       "      <th>East</th>\n",
       "      <td>50171698</td>\n",
       "      <td>678781.2400</td>\n",
       "      <td>10618</td>\n",
       "      <td>414.00</td>\n",
       "      <td>91522.7800</td>\n",
       "    </tr>\n",
       "    <tr>\n",
       "      <th>South</th>\n",
       "      <td>55875052</td>\n",
       "      <td>391721.9050</td>\n",
       "      <td>6209</td>\n",
       "      <td>238.55</td>\n",
       "      <td>46749.4303</td>\n",
       "    </tr>\n",
       "    <tr>\n",
       "      <th>West</th>\n",
       "      <td>293739752</td>\n",
       "      <td>725457.8245</td>\n",
       "      <td>12266</td>\n",
       "      <td>350.20</td>\n",
       "      <td>108418.4489</td>\n",
       "    </tr>\n",
       "  </tbody>\n",
       "</table>\n",
       "</div>"
      ],
      "text/plain": [
       "         Postal Code        Sales  Quantity  Discount       Profit\n",
       "Region                                                            \n",
       "Central    151786150  501239.8908      8780    558.34   39706.3625\n",
       "East        50171698  678781.2400     10618    414.00   91522.7800\n",
       "South       55875052  391721.9050      6209    238.55   46749.4303\n",
       "West       293739752  725457.8245     12266    350.20  108418.4489"
      ]
     },
     "execution_count": 37,
     "metadata": {},
     "output_type": "execute_result"
    }
   ],
   "source": [
    "data.groupby(by=\"Region\").sum()"
   ]
  },
  {
   "cell_type": "markdown",
   "id": "57c33781",
   "metadata": {},
   "source": [
    "As we see that, profit from South region is less than other regions. So to increase the profit we need to focus on South Region."
   ]
  },
  {
   "cell_type": "markdown",
   "id": "52c13c6f",
   "metadata": {},
   "source": [
    "# Visualization:"
   ]
  },
  {
   "cell_type": "code",
   "execution_count": 38,
   "id": "d98bcd31",
   "metadata": {},
   "outputs": [],
   "source": [
    "import matplotlib.pyplot as plt"
   ]
  },
  {
   "cell_type": "code",
   "execution_count": 39,
   "id": "6cf5d166",
   "metadata": {},
   "outputs": [],
   "source": [
    "plt.rcParams[\"figure.figsize\"]=(15,3)"
   ]
  },
  {
   "cell_type": "code",
   "execution_count": 40,
   "id": "8922334f",
   "metadata": {},
   "outputs": [
    {
     "data": {
      "text/plain": [
       "Text(0.5, 1.0, 'Sub-Category Vs Sales')"
      ]
     },
     "execution_count": 40,
     "metadata": {},
     "output_type": "execute_result"
    },
    {
     "data": {
      "image/png": "[encoded data removed]",
      "text/plain": [
       "<Figure size 1080x216 with 1 Axes>"
      ]
     },
     "metadata": {
      "needs_background": "light"
     },
     "output_type": "display_data"
    }
   ],
   "source": [
    "plt.bar(loss[\"Sub-Category\"],loss[\"Sales\"])\n",
    "plt.xlabel(\"Sub-Category\")\n",
    "plt.ylabel(\"Sales\")\n",
    "plt.title(\"Sub-Category Vs Sales\")"
   ]
  },
  {
   "cell_type": "markdown",
   "id": "5277b6fa",
   "metadata": {},
   "source": [
    "Above bar plot show that, the Fasteners, Appliances, Furnishings, Accessories has less profit than other, so we need to focus on that."
   ]
  },
  {
   "cell_type": "code",
   "execution_count": 41,
   "id": "fb3ae0a1",
   "metadata": {},
   "outputs": [
    {
     "data": {
      "text/plain": [
       "Text(0.5, 1.0, 'Sub-Category Vs Sales')"
      ]
     },
     "execution_count": 41,
     "metadata": {},
     "output_type": "execute_result"
    },
    {
     "data": {
      "image/png": "[encoded data removed]",
      "text/plain": [
       "<Figure size 2016x576 with 1 Axes>"
      ]
     },
     "metadata": {
      "needs_background": "light"
     },
     "output_type": "display_data"
    }
   ],
   "source": [
    "plt.rcParams[\"figure.figsize\"]=(28,8)\n",
    "plt.bar(data[\"Sub-Category\"],data[\"Sales\"])\n",
    "plt.rcParams.update({'font.size':14})\n",
    "plt.xlabel(\"Sub-Category\")\n",
    "plt.ylabel(\"Sales\")\n",
    "plt.title(\"Sub-Category Vs Sales\")"
   ]
  },
  {
   "cell_type": "markdown",
   "id": "8e3f5ea8",
   "metadata": {},
   "source": [
    "When we compare the overall supermarket data, Fasteners, LAbels, Art, Envelopes, Furnishing, etc sub-categories has less sales, so we need to focus on that and improve it's sale. "
   ]
  },
  {
   "cell_type": "code",
   "execution_count": 42,
   "id": "b16786ac",
   "metadata": {},
   "outputs": [
    {
     "data": {
      "text/plain": [
       "Text(0, 0.5, 'Discount')"
      ]
     },
     "execution_count": 42,
     "metadata": {},
     "output_type": "execute_result"
    },
    {
     "data": {
      "image/png": "[encoded data removed]",
      "text/plain": [
       "<Figure size 2016x576 with 1 Axes>"
      ]
     },
     "metadata": {
      "needs_background": "light"
     },
     "output_type": "display_data"
    }
   ],
   "source": [
    "plt.rcParams[\"figure.figsize\"]=(28,8)\n",
    "plt.bar(data[\"Sub-Category\"],data[\"Discount\"])\n",
    "plt.rcParams.update({\"font.size\":14})\n",
    "plt.xlabel(\"Sub-Category\")\n",
    "plt.ylabel(\"Discount\")"
   ]
  },
  {
   "cell_type": "code",
   "execution_count": 43,
   "id": "6b7a1334",
   "metadata": {},
   "outputs": [
    {
     "data": {
      "text/plain": [
       "Text(0, 0.5, 'Sales')"
      ]
     },
     "execution_count": 43,
     "metadata": {},
     "output_type": "execute_result"
    },
    {
     "data": {
      "image/png": "[encoded data removed]",
      "text/plain": [
       "<Figure size 2016x576 with 1 Axes>"
      ]
     },
     "metadata": {
      "needs_background": "light"
     },
     "output_type": "display_data"
    }
   ],
   "source": [
    "plt.rcParams[\"figure.figsize\"]=(28,8)\n",
    "plt.bar(data[\"Ship Mode\"],data[\"Sales\"])\n",
    "plt.rcParams.update({\"font.size\":14})\n",
    "plt.xlabel(\"Ship Mode\")\n",
    "plt.ylabel(\"Sales\")"
   ]
  },
  {
   "cell_type": "markdown",
   "id": "b95f3c3a",
   "metadata": {},
   "source": [
    "Here see that, sales is high if ship mode is Standard class and low if it is Same day or second class."
   ]
  },
  {
   "cell_type": "code",
   "execution_count": 44,
   "id": "48027441",
   "metadata": {},
   "outputs": [],
   "source": [
    "import seaborn as sns"
   ]
  },
  {
   "cell_type": "code",
   "execution_count": 35,
   "id": "7d9c4bc4",
   "metadata": {},
   "outputs": [
    {
     "data": {
      "image/png": "[encoded data removed]",
      "text/plain": [
       "<Figure size 720x360 with 1 Axes>"
      ]
     },
     "metadata": {
      "needs_background": "light"
     },
     "output_type": "display_data"
    }
   ],
   "source": [
    "plt.rcParams[\"figure.figsize\"]=(10,5)\n",
    "sns.countplot(x=data.Segment)\n",
    "plt.show()"
   ]
  },
  {
   "cell_type": "markdown",
   "id": "95121db9",
   "metadata": {},
   "source": [
    "In above plot we see that, the count is low in Home Office segment, so we need to improve strategies in this segments."
   ]
  },
  {
   "cell_type": "code",
   "execution_count": 42,
   "id": "a5a158f9",
   "metadata": {},
   "outputs": [
    {
     "data": {
      "image/png": "[encoded data removed]",
      "text/plain": [
       "<Figure size 1440x576 with 1 Axes>"
      ]
     },
     "metadata": {
      "needs_background": "light"
     },
     "output_type": "display_data"
    }
   ],
   "source": [
    "plt.rcParams[\"figure.figsize\"]=(20,8)\n",
    "plt.rcParams.update({\"font.size\":12})\n",
    "sns.countplot(x=\"Sub-Category\",data=data)\n",
    "plt.show()"
   ]
  },
  {
   "cell_type": "markdown",
   "id": "5977c0cd",
   "metadata": {},
   "source": [
    "From above plot, it is clear that we need to focus on Copiers and Machines."
   ]
  },
  {
   "cell_type": "code",
   "execution_count": 41,
   "id": "6001d2ed",
   "metadata": {},
   "outputs": [
    {
     "data": {
      "image/png": "[encoded data removed]",
      "text/plain": [
       "<Figure size 720x360 with 1 Axes>"
      ]
     },
     "metadata": {
      "needs_background": "light"
     },
     "output_type": "display_data"
    }
   ],
   "source": [
    "plt.rcParams[\"figure.figsize\"]=(10,5)\n",
    "plt.rcParams.update({\"font.size\":14})\n",
    "sns.countplot(x=\"Region\",data=data)\n",
    "plt.show()"
   ]
  },
  {
   "cell_type": "markdown",
   "id": "dfd1b97b",
   "metadata": {},
   "source": [
    "South region need more improvement than other regions."
   ]
  },
  {
   "cell_type": "code",
   "execution_count": 43,
   "id": "90f4ac02",
   "metadata": {},
   "outputs": [
    {
     "data": {
      "text/html": [
       "<div>\n",
       "<style scoped>\n",
       "    .dataframe tbody tr th:only-of-type {\n",
       "        vertical-align: middle;\n",
       "    }\n",
       "\n",
       "    .dataframe tbody tr th {\n",
       "        vertical-align: top;\n",
       "    }\n",
       "\n",
       "    .dataframe thead th {\n",
       "        text-align: right;\n",
       "    }\n",
       "</style>\n",
       "<table border=\"1\" class=\"dataframe\">\n",
       "  <thead>\n",
       "    <tr style=\"text-align: right;\">\n",
       "      <th></th>\n",
       "      <th>Postal Code</th>\n",
       "      <th>Sales</th>\n",
       "      <th>Quantity</th>\n",
       "      <th>Discount</th>\n",
       "      <th>Profit</th>\n",
       "    </tr>\n",
       "  </thead>\n",
       "  <tbody>\n",
       "    <tr>\n",
       "      <th>Postal Code</th>\n",
       "      <td>1.000000</td>\n",
       "      <td>-0.023854</td>\n",
       "      <td>0.012761</td>\n",
       "      <td>0.058443</td>\n",
       "      <td>-0.029961</td>\n",
       "    </tr>\n",
       "    <tr>\n",
       "      <th>Sales</th>\n",
       "      <td>-0.023854</td>\n",
       "      <td>1.000000</td>\n",
       "      <td>0.200795</td>\n",
       "      <td>-0.028190</td>\n",
       "      <td>0.479064</td>\n",
       "    </tr>\n",
       "    <tr>\n",
       "      <th>Quantity</th>\n",
       "      <td>0.012761</td>\n",
       "      <td>0.200795</td>\n",
       "      <td>1.000000</td>\n",
       "      <td>0.008623</td>\n",
       "      <td>0.066253</td>\n",
       "    </tr>\n",
       "    <tr>\n",
       "      <th>Discount</th>\n",
       "      <td>0.058443</td>\n",
       "      <td>-0.028190</td>\n",
       "      <td>0.008623</td>\n",
       "      <td>1.000000</td>\n",
       "      <td>-0.219487</td>\n",
       "    </tr>\n",
       "    <tr>\n",
       "      <th>Profit</th>\n",
       "      <td>-0.029961</td>\n",
       "      <td>0.479064</td>\n",
       "      <td>0.066253</td>\n",
       "      <td>-0.219487</td>\n",
       "      <td>1.000000</td>\n",
       "    </tr>\n",
       "  </tbody>\n",
       "</table>\n",
       "</div>"
      ],
      "text/plain": [
       "             Postal Code     Sales  Quantity  Discount    Profit\n",
       "Postal Code     1.000000 -0.023854  0.012761  0.058443 -0.029961\n",
       "Sales          -0.023854  1.000000  0.200795 -0.028190  0.479064\n",
       "Quantity        0.012761  0.200795  1.000000  0.008623  0.066253\n",
       "Discount        0.058443 -0.028190  0.008623  1.000000 -0.219487\n",
       "Profit         -0.029961  0.479064  0.066253 -0.219487  1.000000"
      ]
     },
     "execution_count": 43,
     "metadata": {},
     "output_type": "execute_result"
    }
   ],
   "source": [
    "data.corr()"
   ]
  },
  {
   "cell_type": "code",
   "execution_count": 47,
   "id": "ce968cd3",
   "metadata": {},
   "outputs": [
    {
     "data": {
      "image/png": "[encoded data removed]",
      "text/plain": [
       "<Figure size 720x360 with 2 Axes>"
      ]
     },
     "metadata": {
      "needs_background": "light"
     },
     "output_type": "display_data"
    }
   ],
   "source": [
    "sns.heatmap(data.corr(),cmap=\"Purples\",annot=True)\n",
    "plt.rcParams[\"figure.figsize\"]=(10,5)"
   ]
  },
  {
   "cell_type": "markdown",
   "id": "7ac2ab32",
   "metadata": {},
   "source": [
    "The above heatmap tells us that,\n",
    "\n",
    "Sales and profit are moderately correlated.\n",
    "\n",
    "Discount and Profit are negatively correlated."
   ]
  },
  {
   "cell_type": "markdown",
   "id": "9c05c150",
   "metadata": {},
   "source": [
    "# Overall Analysis of Store"
   ]
  },
  {
   "cell_type": "markdown",
   "id": "8f4726f7",
   "metadata": {},
   "source": [
    "1. The main reason of loss is \"Discount\", in some areas more discount lead more loss, and in some areas less discount lead to more loss. Hence it need improvement.\n",
    "\n",
    "2. Need to focus on sales of Sub-categories, in which sale is low. \n",
    "\n",
    "3. The Home office Segment needs more improvment."
   ]
  },
  {
   "cell_type": "markdown",
   "id": "a0991611",
   "metadata": {},
   "source": [
    "# Thank You!"
   ]
  }
 ],
 "metadata": {
  "kernelspec": {
   "display_name": "Python 3 (ipykernel)",
   "language": "python",
   "name": "python3"
  },
  "language_info": {
   "codemirror_mode": {
    "name": "ipython",
    "version": 3
   },
   "file_extension": ".py",
   "mimetype": "text/x-python",
   "name": "python",
   "nbconvert_exporter": "python",
   "pygments_lexer": "ipython3",
   "version": "3.9.7"
  }
 },
 "nbformat": 4,
 "nbformat_minor": 5
}
