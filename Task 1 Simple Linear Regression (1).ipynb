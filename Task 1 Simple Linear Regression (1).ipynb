{
 "cells": [
  {
   "cell_type": "markdown",
   "id": "00b98ce4",
   "metadata": {},
   "source": [
    "# **Regression**"
   ]
  },
  {
   "cell_type": "markdown",
   "id": "fcb4e056",
   "metadata": {},
   "source": [
    "The term regression is used when you try to find the relationship between variables."
   ]
  },
  {
   "cell_type": "markdown",
   "id": "b3f32c07",
   "metadata": {},
   "source": [
    "# **Linear Regression**"
   ]
  },
  {
   "cell_type": "markdown",
   "id": "a375fcdc",
   "metadata": {},
   "source": [
    "In this task, we will predict the Scores of the student corresponding how much hours they study. \n",
    "\n",
    "This task of Simple Linear Regression.\n",
    "\n",
    "In this data, we are dealing with only two variables."
   ]
  },
  {
   "cell_type": "markdown",
   "id": "75227950",
   "metadata": {},
   "source": [
    "Firstly, import the libraries which are neccessary to linear regression model building."
   ]
  },
  {
   "cell_type": "code",
   "execution_count": 1,
   "id": "181901ca",
   "metadata": {},
   "outputs": [],
   "source": [
    "import numpy as np\n",
    "import pandas as pd\n",
    "import matplotlib.pyplot as plt\n",
    "from sklearn import linear_model"
   ]
  },
  {
   "cell_type": "markdown",
   "id": "70f735ce",
   "metadata": {},
   "source": [
    "Let's import the data with Pandas library."
   ]
  },
  {
   "cell_type": "code",
   "execution_count": 2,
   "id": "5627e7f2",
   "metadata": {
    "scrolled": true
   },
   "outputs": [
    {
     "data": {
      "text/html": [
       "<div>\n",
       "<style scoped>\n",
       "    .dataframe tbody tr th:only-of-type {\n",
       "        vertical-align: middle;\n",
       "    }\n",
       "\n",
       "    .dataframe tbody tr th {\n",
       "        vertical-align: top;\n",
       "    }\n",
       "\n",
       "    .dataframe thead th {\n",
       "        text-align: right;\n",
       "    }\n",
       "</style>\n",
       "<table border=\"1\" class=\"dataframe\">\n",
       "  <thead>\n",
       "    <tr style=\"text-align: right;\">\n",
       "      <th></th>\n",
       "      <th>Hours</th>\n",
       "      <th>Scores</th>\n",
       "    </tr>\n",
       "  </thead>\n",
       "  <tbody>\n",
       "    <tr>\n",
       "      <th>0</th>\n",
       "      <td>2.5</td>\n",
       "      <td>21</td>\n",
       "    </tr>\n",
       "    <tr>\n",
       "      <th>1</th>\n",
       "      <td>5.1</td>\n",
       "      <td>47</td>\n",
       "    </tr>\n",
       "    <tr>\n",
       "      <th>2</th>\n",
       "      <td>3.2</td>\n",
       "      <td>27</td>\n",
       "    </tr>\n",
       "    <tr>\n",
       "      <th>3</th>\n",
       "      <td>8.5</td>\n",
       "      <td>75</td>\n",
       "    </tr>\n",
       "    <tr>\n",
       "      <th>4</th>\n",
       "      <td>3.5</td>\n",
       "      <td>30</td>\n",
       "    </tr>\n",
       "  </tbody>\n",
       "</table>\n",
       "</div>"
      ],
      "text/plain": [
       "   Hours  Scores\n",
       "0    2.5      21\n",
       "1    5.1      47\n",
       "2    3.2      27\n",
       "3    8.5      75\n",
       "4    3.5      30"
      ]
     },
     "execution_count": 2,
     "metadata": {},
     "output_type": "execute_result"
    }
   ],
   "source": [
    "data=pd.read_csv(\"http://bit.ly/w-data\")\n",
    "data.head(5)"
   ]
  },
  {
   "cell_type": "markdown",
   "id": "a3483148",
   "metadata": {},
   "source": [
    "Let's plot the scatter plot to  check the relation between study hours and score"
   ]
  },
  {
   "cell_type": "code",
   "execution_count": 3,
   "id": "bad30586",
   "metadata": {},
   "outputs": [
    {
     "data": {
      "text/plain": [
       "<matplotlib.collections.PathCollection at 0x2808bbc73a0>"
      ]
     },
     "execution_count": 3,
     "metadata": {},
     "output_type": "execute_result"
    },
    {
     "data": {
      "image/png": "[encoded data removed]",
      "text/plain": [
       "<Figure size 432x288 with 1 Axes>"
      ]
     },
     "metadata": {
      "needs_background": "light"
     },
     "output_type": "display_data"
    }
   ],
   "source": [
    "%matplotlib inline \n",
    "plt.xlabel(\"Hours\")\n",
    "plt.ylabel(\"Score\")\n",
    "plt.title(\"Hours vs Scores\")\n",
    "plt.scatter(data.Hours,data.Scores,color=\"red\",marker=\"+\")"
   ]
  },
  {
   "cell_type": "markdown",
   "id": "84fbe89e",
   "metadata": {},
   "source": [
    "**From above scatter plot we clearly see that, there is positive relationship between number of studied hour and percentage of score.**"
   ]
  },
  {
   "cell_type": "code",
   "execution_count": 4,
   "id": "2063b972",
   "metadata": {},
   "outputs": [
    {
     "data": {
      "text/plain": [
       "(25, 2)"
      ]
     },
     "execution_count": 4,
     "metadata": {},
     "output_type": "execute_result"
    }
   ],
   "source": [
    "data.shape"
   ]
  },
  {
   "cell_type": "markdown",
   "id": "0dc71695",
   "metadata": {},
   "source": [
    "# **Data preparation**"
   ]
  },
  {
   "cell_type": "markdown",
   "id": "e2082c26",
   "metadata": {},
   "source": [
    "Prepare data as input and target variable. \n",
    "\n",
    "x as input variable\n",
    "\n",
    "y as target variable"
   ]
  },
  {
   "cell_type": "code",
   "execution_count": 5,
   "id": "f9ed9c8e",
   "metadata": {},
   "outputs": [],
   "source": [
    "x=data.iloc[:,:-1].values\n",
    "y=data.iloc[:,1].values"
   ]
  },
  {
   "cell_type": "markdown",
   "id": "de9f478f",
   "metadata": {},
   "source": [
    "Now we wil split data as trainig and testing set with splitting rule 70-30. For that we use train_test_split method of sklearn library."
   ]
  },
  {
   "cell_type": "code",
   "execution_count": 6,
   "id": "7ac8ca6d",
   "metadata": {},
   "outputs": [],
   "source": [
    "from sklearn.model_selection import train_test_split\n",
    "x_train,x_test,y_train,y_test=train_test_split(x,y,test_size=0.3,random_state=1)\n",
    "\n",
    "print(\"We successfully split the data\")"
   ]
  },
  {
   "cell_type": "markdown",
   "id": "9bf2c7fa",
   "metadata": {},
   "source": [
    "# Train the Model\n",
    "Now it's time to train the model."
   ]
  },
  {
   "cell_type": "code",
   "execution_count": 7,
   "id": "062db736",
   "metadata": {},
   "outputs": [
    {
     "data": {
      "text/plain": [
       "LinearRegression()"
      ]
     },
     "execution_count": 7,
     "metadata": {},
     "output_type": "execute_result"
    }
   ],
   "source": [
    "regression=linear_model.LinearRegression()\n",
    "regression.fit(x_train,y_train)"
   ]
  },
  {
   "cell_type": "code",
   "execution_count": 8,
   "id": "4823f5b9",
   "metadata": {},
   "outputs": [
    {
     "data": {
      "text/plain": [
       "-1.5123061161277889"
      ]
     },
     "execution_count": 8,
     "metadata": {},
     "output_type": "execute_result"
    }
   ],
   "source": [
    "regression.intercept_  ##intercept of regression line"
   ]
  },
  {
   "cell_type": "code",
   "execution_count": 9,
   "id": "bcd53713",
   "metadata": {},
   "outputs": [
    {
     "data": {
      "text/plain": [
       "array([10.41075981])"
      ]
     },
     "execution_count": 9,
     "metadata": {},
     "output_type": "execute_result"
    }
   ],
   "source": [
    "regression.coef_ ## Coefficient of regression line"
   ]
  },
  {
   "cell_type": "code",
   "execution_count": 10,
   "id": "80769676",
   "metadata": {},
   "outputs": [],
   "source": [
    "##plotting the regression line\n",
    "regline=regression.coef_*x+regression.intercept_"
   ]
  },
  {
   "cell_type": "code",
   "execution_count": 11,
   "id": "7bffefcb",
   "metadata": {},
   "outputs": [
    {
     "data": {
      "image/png": "[encoded data removed]",
      "text/plain": [
       "<Figure size 432x288 with 1 Axes>"
      ]
     },
     "metadata": {
      "needs_background": "light"
     },
     "output_type": "display_data"
    }
   ],
   "source": [
    "plt.scatter(x,y)\n",
    "plt.plot(x,regline,color=\"red\");\n",
    "plt.show()"
   ]
  },
  {
   "cell_type": "markdown",
   "id": "fed94bd9",
   "metadata": {},
   "source": [
    "# **Making Predicion**\n",
    "let's predict the x_test set."
   ]
  },
  {
   "cell_type": "code",
   "execution_count": 12,
   "id": "b8cc54b6",
   "metadata": {},
   "outputs": [
    {
     "name": "stdout",
     "output_type": "stream",
     "text": [
      "[ 9.93952968 32.84320126 18.26813752 86.97915227 48.45934097 78.65054442\n",
      " 61.99332873 75.52731648]\n"
     ]
    }
   ],
   "source": [
    "y_pred=regression.predict(x_test)\n",
    "print(y_pred)"
   ]
  },
  {
   "cell_type": "markdown",
   "id": "0b67f174",
   "metadata": {},
   "source": [
    "As our task, let's predict the score when study hour is 9.25."
   ]
  },
  {
   "cell_type": "code",
   "execution_count": 13,
   "id": "57070a04",
   "metadata": {},
   "outputs": [
    {
     "name": "stdout",
     "output_type": "stream",
     "text": [
      "[94.78722213]\n"
     ]
    }
   ],
   "source": [
    "hour=9.25\n",
    "my_pred=regression.predict([[hour]])\n",
    "print(my_pred)"
   ]
  },
  {
   "cell_type": "markdown",
   "id": "ee19f9f9",
   "metadata": {},
   "source": [
    "# Evaluating the Model\n",
    "\n",
    "The most important and final stage of our task is check the performance of our model.\n",
    "\n",
    "To check the performance we consider R-square, Mean Square Error and Mean Absolute Error.\n",
    "Note, you can choose any one of the about method to check performance of model."
   ]
  },
  {
   "cell_type": "code",
   "execution_count": 14,
   "id": "99beb0aa",
   "metadata": {},
   "outputs": [],
   "source": [
    "from sklearn import metrics"
   ]
  },
  {
   "cell_type": "code",
   "execution_count": 15,
   "id": "6b413060",
   "metadata": {},
   "outputs": [
    {
     "name": "stdout",
     "output_type": "stream",
     "text": [
      "R-square: 0.8933827573294114\n",
      "MSE: 56.092330905646705\n",
      "Mean Absolute Error: 7.169048271425507\n"
     ]
    }
   ],
   "source": [
    "print(\"R-square:\",regression.score(x_test,y_test))\n",
    "print(\"MSE:\",metrics.mean_squared_error(y_test,y_pred))\n",
    "print('Mean Absolute Error:',metrics.mean_absolute_error(y_test, y_pred))"
   ]
  },
  {
   "cell_type": "markdown",
   "id": "9d84f3ed",
   "metadata": {},
   "source": [
    "From the above R-square value we can say that our model is best fit to the data. "
   ]
  },
  {
   "cell_type": "markdown",
   "id": "81bec61f",
   "metadata": {},
   "source": [
    "# Thank You!"
   ]
  }
 ],
 "metadata": {
  "kernelspec": {
   "display_name": "Python 3 (ipykernel)",
   "language": "python",
   "name": "python3"
  },
  "language_info": {
   "codemirror_mode": {
    "name": "ipython",
    "version": 3
   },
   "file_extension": ".py",
   "mimetype": "text/x-python",
   "name": "python",
   "nbconvert_exporter": "python",
   "pygments_lexer": "ipython3",
   "version": "3.9.7"
  }
 },
 "nbformat": 4,
 "nbformat_minor": 5
}
